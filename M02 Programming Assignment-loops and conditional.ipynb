{
 "cells": [
  {
   "cell_type": "markdown",
   "id": "ec6146d6",
   "metadata": {},
   "source": [
    "# Name : Fantahun Kasahun\n",
    "# M02 programming: Assignment Loops and Conditionals\n",
    "#  updated Date: 6/20/202\n",
    "# purpose: choosing a number from 1 to 10 and assign a varible "
   ]
  },
  {
   "cell_type": "code",
   "execution_count": null,
   "id": "9ca31c71",
   "metadata": {},
   "outputs": [],
   "source": [
    "4.1"
   ]
  },
  {
   "cell_type": "code",
   "execution_count": 7,
   "id": "03814c1e",
   "metadata": {},
   "outputs": [
    {
     "name": "stdout",
     "output_type": "stream",
     "text": [
      "Choose a number between 1 and 10:9\n",
      "Choose another number between 1 and 10:2\n",
      "too low\n"
     ]
    }
   ],
   "source": [
    "secret=int(input('Choose a number between 1 and 10:'))\n",
    "guess=int(input('Choose another number between 1 and 10:'))\n",
    "if guess < secret:\n",
    "    print('too low')\n",
    "elif guess >secret:\n",
    "    print('just high')\n",
    "else: \n",
    "    print('just right')"
   ]
  },
  {
   "cell_type": "code",
   "execution_count": 158,
   "id": "fb625791",
   "metadata": {},
   "outputs": [
    {
     "name": "stdout",
     "output_type": "stream",
     "text": [
      "cherry\n"
     ]
    }
   ],
   "source": [
    "# 4.2\n",
    "\n",
    "\n",
    "small=True\n",
    "green=False\n",
    "if small:\n",
    "    if green:\n",
    "        print(\"pea\")\n",
    "    else:\n",
    "        print(\"cherry\")\n",
    "else:\n",
    "    if green:\n",
    "        print(\"watermelon\")\n",
    "    else:\n",
    "        print(\"pumpkin\")\n",
    " \n",
    "\n",
    "\n",
    "\n",
    "        "
   ]
  },
  {
   "cell_type": "code",
   "execution_count": 157,
   "id": "adf8ec12",
   "metadata": {},
   "outputs": [
    {
     "name": "stdout",
     "output_type": "stream",
     "text": [
      "3\n",
      "2\n",
      "1\n",
      "0\n"
     ]
    }
   ],
   "source": [
    "# 6.1\n",
    "\n",
    " for x in[3,2,1,0]:\n",
    "    print(x)\n",
    "    \n",
    "    \n",
    "           \n",
    "    "
   ]
  },
  {
   "cell_type": "code",
   "execution_count": 149,
   "id": "04dcd1e3",
   "metadata": {},
   "outputs": [
    {
     "name": "stdout",
     "output_type": "stream",
     "text": [
      "too low\n",
      "too low\n",
      "too low\n",
      "too low\n",
      "too low\n",
      "too low\n",
      "found it!\n"
     ]
    }
   ],
   "source": [
    "\n",
    "# 6.2\n",
    "\n",
    "guess_me=7\n",
    "number=1\n",
    "while True:\n",
    "    if number < guess_me:\n",
    "        print('too low')\n",
    "    elif number==guess_me:\n",
    "        print('found it!')\n",
    "        break\n",
    "    elif number > guess_me:\n",
    "        print(\"oops\")\n",
    "        break\n",
    "    number+=1"
   ]
  },
  {
   "cell_type": "code",
   "execution_count": 99,
   "id": "7b6e950b",
   "metadata": {},
   "outputs": [
    {
     "name": "stdout",
     "output_type": "stream",
     "text": [
      "too low\n",
      "too low\n",
      "too low\n",
      "too low\n",
      "too low\n",
      "found it!\n"
     ]
    }
   ],
   "source": [
    "# 6.3\n",
    "\n",
    "guess_me=5\n",
    "for number in range(10):\n",
    "    if number < guess_me:\n",
    "        print(\"too low\")\n",
    "    elif number==guess_me:\n",
    "        print(\"found it!\")\n",
    "        break\n",
    "    else:\n",
    "         print(\"oops\")\n",
    "         break\n",
    "           "
   ]
  }
 ],
 "metadata": {
  "kernelspec": {
   "display_name": "Python 3 (ipykernel)",
   "language": "python",
   "name": "python3"
  },
  "language_info": {
   "codemirror_mode": {
    "name": "ipython",
    "version": 3
   },
   "file_extension": ".py",
   "mimetype": "text/x-python",
   "name": "python",
   "nbconvert_exporter": "python",
   "pygments_lexer": "ipython3",
   "version": "3.9.12"
  }
 },
 "nbformat": 4,
 "nbformat_minor": 5
}
